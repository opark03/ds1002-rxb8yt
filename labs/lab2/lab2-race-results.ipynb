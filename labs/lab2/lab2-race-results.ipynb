{
  "nbformat": 4,
  "nbformat_minor": 0,
  "metadata": {
    "colab": {
      "provenance": [],
      "include_colab_link": true
    },
    "kernelspec": {
      "name": "ir",
      "display_name": "R"
    },
    "language_info": {
      "name": "R"
    }
  },
  "cells": [
    {
      "cell_type": "markdown",
      "metadata": {
        "id": "view-in-github",
        "colab_type": "text"
      },
      "source": [
        "<a href=\"https://colab.research.google.com/github/opark03/ds1002-rxb8yt/blob/main/labs/lab2/lab2-race-results.ipynb\" target=\"_parent\"><img src=\"https://colab.research.google.com/assets/colab-badge.svg\" alt=\"Open In Colab\"/></a>"
      ]
    },
    {
      "cell_type": "markdown",
      "source": [
        "# DS1002 Lab 2: Determine Race Results with R\n",
        "\n",
        "In this lab you will work with a dataset, writing R to generate the deliverables specified in the cells below.\n",
        "\n",
        "The dataset for this lab is made up of fictitious results from a road race. Runner information and results is provided in the data.\n",
        "\n",
        "Answer the questions below with the appropriate R code. Point assignments are indicated for each section. There are 10 total points possible for this lab.\n",
        "\n",
        "Useful reference material (check all R modules within the Canvas site for more help)\n",
        "- [R Reference Material](https://canvas.its.virginia.edu/courses/78571/modules#module_219810).\n",
        "- [Plots Samples](https://colab.research.google.com/github/nmagee/ds1002/blob/main/notebooks/25-plots-in-r.ipynb)"
      ],
      "metadata": {
        "id": "2yEePrJ-1G1Z"
      }
    },
    {
      "cell_type": "markdown",
      "source": [
        "## Group Submissions\n",
        "\n",
        "If you are working in a group to complete this lab, you may have no more than 3 members to a group. Group members should be indicated in the cell below -- list both names and UVA computing IDs.\n",
        "\n",
        "Each student should then submit **the same URL** for the lab in Canvas. (If a group has Member1, Member2, and Member3, only one member needs to save the completed work back to GitHub and all members should submit that URL for grading.)"
      ],
      "metadata": {
        "id": "acXFkytd2PWS"
      }
    },
    {
      "cell_type": "code",
      "source": [
        "# List group members (if applicable). Identify names and computing IDs\n",
        "#\n",
        "# Name                    Computing ID"
      ],
      "metadata": {
        "id": "4N8_o3tG232h"
      },
      "execution_count": null,
      "outputs": []
    },
    {
      "cell_type": "markdown",
      "source": [
        "## 1. Load Libraries & Data (1 pt)\n",
        "\n",
        "https://raw.githubusercontent.com/nmagee/ds1002/main/data/road-race.csv\n",
        "\n",
        "Import any necessary libraries and load the remote CSV file below into a data frame."
      ],
      "metadata": {
        "id": "w0VxTDNf1k2O"
      }
    },
    {
      "cell_type": "code",
      "execution_count": 5,
      "metadata": {
        "id": "I0B9chFD1GR0",
        "colab": {
          "base_uri": "https://localhost:8080/"
        },
        "outputId": "803b7e6c-b1af-4865-a6da-5a3285c8847b"
      },
      "outputs": [
        {
          "output_type": "stream",
          "name": "stderr",
          "text": [
            "\n",
            "Attaching package: ‘dplyr’\n",
            "\n",
            "\n",
            "The following objects are masked from ‘package:stats’:\n",
            "\n",
            "    filter, lag\n",
            "\n",
            "\n",
            "The following objects are masked from ‘package:base’:\n",
            "\n",
            "    intersect, setdiff, setequal, union\n",
            "\n",
            "\n"
          ]
        }
      ],
      "source": [
        "# I loaded other needed packages later when they became relevent\n",
        "library(dplyr)\n",
        "dataset <- read.csv(\"https://raw.githubusercontent.com/nmagee/ds1002/main/data/road-race.csv\")"
      ]
    },
    {
      "cell_type": "markdown",
      "source": [
        "## 2. Get Summary Data (1 pt)"
      ],
      "metadata": {
        "id": "H389W9dkobGI"
      }
    },
    {
      "cell_type": "markdown",
      "source": [
        "In code, display how many rows and columns are in the raw dataset."
      ],
      "metadata": {
        "id": "KA0wbjmE-4Q9"
      }
    },
    {
      "cell_type": "code",
      "source": [
        "# I used str for info for myself and dim to display rows and columns\n",
        "str(dataset)"
      ],
      "metadata": {
        "id": "XhULtu7qox-p",
        "colab": {
          "base_uri": "https://localhost:8080/"
        },
        "outputId": "ff68a5e6-8cb1-4d70-bffa-25f4580a1665"
      },
      "execution_count": 6,
      "outputs": [
        {
          "output_type": "stream",
          "name": "stdout",
          "text": [
            "'data.frame':\t764 obs. of  5 variables:\n",
            " $ runner_bib   : int  1 2 3 4 5 6 7 8 9 10 ...\n",
            " $ runner_name  : chr  \"Loydie Lopes\" \"Lorens Crispe\" \"Shirline Hasser\" \"Alleyn Hartshorn\" ...\n",
            " $ runner_age   : int  17 33 22 39 50 44 51 44 30 60 ...\n",
            " $ runner_gender: chr  \"Male\" \"Male\" \"Female\" \"Male\" ...\n",
            " $ finish_time  : chr  \"16:01\" \"15:40\" \"14:20\" \"17:06\" ...\n"
          ]
        }
      ]
    },
    {
      "cell_type": "code",
      "source": [
        "dim(dataset)"
      ],
      "metadata": {
        "colab": {
          "base_uri": "https://localhost:8080/",
          "height": 34
        },
        "id": "T1IzN-5P9xZV",
        "outputId": "044d9f09-eafd-4868-bb45-ed1f4529c6cb"
      },
      "execution_count": 7,
      "outputs": [
        {
          "output_type": "display_data",
          "data": {
            "text/html": [
              "<style>\n",
              ".list-inline {list-style: none; margin:0; padding: 0}\n",
              ".list-inline>li {display: inline-block}\n",
              ".list-inline>li:not(:last-child)::after {content: \"\\00b7\"; padding: 0 .5ex}\n",
              "</style>\n",
              "<ol class=list-inline><li>764</li><li>5</li></ol>\n"
            ],
            "text/markdown": "1. 764\n2. 5\n\n\n",
            "text/latex": "\\begin{enumerate*}\n\\item 764\n\\item 5\n\\end{enumerate*}\n",
            "text/plain": [
              "[1] 764   5"
            ]
          },
          "metadata": {}
        }
      ]
    },
    {
      "cell_type": "markdown",
      "source": [
        "## 3. Clean and Organize the Data (2 pts)\n",
        "\n",
        "Check for data quality.\n",
        "\n",
        "- Resolve any duplicate rows.\n",
        "- If a runner does not have a finish time, they are DNF and should not be counted in the dataset.\n",
        "\n"
      ],
      "metadata": {
        "id": "abshX7QeooAs"
      }
    },
    {
      "cell_type": "code",
      "source": [
        "# First looking to see how many duplicated rows\n",
        "nrow(dataset[duplicated(dataset), ])"
      ],
      "metadata": {
        "id": "Aq3J7yD82uwW",
        "colab": {
          "base_uri": "https://localhost:8080/",
          "height": 34
        },
        "outputId": "9d0223ce-56da-4578-e4aa-fc242fe9561e"
      },
      "execution_count": 8,
      "outputs": [
        {
          "output_type": "display_data",
          "data": {
            "text/html": [
              "124"
            ],
            "text/markdown": "124",
            "text/latex": "124",
            "text/plain": [
              "[1] 124"
            ]
          },
          "metadata": {}
        }
      ]
    },
    {
      "cell_type": "code",
      "source": [
        "dataset <- dataset[!duplicated(dataset), ]\n",
        "nrow(dataset[duplicated(dataset), ])"
      ],
      "metadata": {
        "colab": {
          "base_uri": "https://localhost:8080/",
          "height": 34
        },
        "id": "86wzXiWe3A8N",
        "outputId": "2f763f59-9c1d-478b-f3a3-ff94e63a0312"
      },
      "execution_count": 9,
      "outputs": [
        {
          "output_type": "display_data",
          "data": {
            "text/html": [
              "0"
            ],
            "text/markdown": "0",
            "text/latex": "0",
            "text/plain": [
              "[1] 0"
            ]
          },
          "metadata": {}
        }
      ]
    },
    {
      "cell_type": "code",
      "source": [
        "dataset <- dataset[dataset$finish_time != \"\", ]"
      ],
      "metadata": {
        "id": "ZO5v0Wgp5RD7"
      },
      "execution_count": 10,
      "outputs": []
    },
    {
      "cell_type": "code",
      "source": [
        "head(dataset, 10)"
      ],
      "metadata": {
        "colab": {
          "base_uri": "https://localhost:8080/",
          "height": 412
        },
        "id": "Tx64MRVJ8wwZ",
        "outputId": "6c531730-2c7f-44db-9285-d4305e40c972"
      },
      "execution_count": 11,
      "outputs": [
        {
          "output_type": "display_data",
          "data": {
            "text/html": [
              "<table class=\"dataframe\">\n",
              "<caption>A data.frame: 10 × 5</caption>\n",
              "<thead>\n",
              "\t<tr><th></th><th scope=col>runner_bib</th><th scope=col>runner_name</th><th scope=col>runner_age</th><th scope=col>runner_gender</th><th scope=col>finish_time</th></tr>\n",
              "\t<tr><th></th><th scope=col>&lt;int&gt;</th><th scope=col>&lt;chr&gt;</th><th scope=col>&lt;int&gt;</th><th scope=col>&lt;chr&gt;</th><th scope=col>&lt;chr&gt;</th></tr>\n",
              "</thead>\n",
              "<tbody>\n",
              "\t<tr><th scope=row>1</th><td> 1</td><td>Loydie Lopes    </td><td>17</td><td>Male  </td><td>16:01</td></tr>\n",
              "\t<tr><th scope=row>2</th><td> 2</td><td>Lorens Crispe   </td><td>33</td><td>Male  </td><td>15:40</td></tr>\n",
              "\t<tr><th scope=row>3</th><td> 3</td><td>Shirline Hasser </td><td>22</td><td>Female</td><td>14:20</td></tr>\n",
              "\t<tr><th scope=row>4</th><td> 4</td><td>Alleyn Hartshorn</td><td>39</td><td>Male  </td><td>17:06</td></tr>\n",
              "\t<tr><th scope=row>5</th><td> 5</td><td>Wang MacColl    </td><td>50</td><td>Male  </td><td>16:49</td></tr>\n",
              "\t<tr><th scope=row>6</th><td> 6</td><td>Tonnie Tidder   </td><td>44</td><td>Male  </td><td>15:43</td></tr>\n",
              "\t<tr><th scope=row>8</th><td> 8</td><td>Basil Moxsom    </td><td>44</td><td>Male  </td><td>15:16</td></tr>\n",
              "\t<tr><th scope=row>9</th><td> 9</td><td>Lark Bragge     </td><td>30</td><td>Female</td><td>15:59</td></tr>\n",
              "\t<tr><th scope=row>10</th><td>10</td><td>Kent Wakely     </td><td>60</td><td>Male  </td><td>14:29</td></tr>\n",
              "\t<tr><th scope=row>11</th><td>11</td><td>Judye Hattrick  </td><td>17</td><td>Female</td><td>15:27</td></tr>\n",
              "</tbody>\n",
              "</table>\n"
            ],
            "text/markdown": "\nA data.frame: 10 × 5\n\n| <!--/--> | runner_bib &lt;int&gt; | runner_name &lt;chr&gt; | runner_age &lt;int&gt; | runner_gender &lt;chr&gt; | finish_time &lt;chr&gt; |\n|---|---|---|---|---|---|\n| 1 |  1 | Loydie Lopes     | 17 | Male   | 16:01 |\n| 2 |  2 | Lorens Crispe    | 33 | Male   | 15:40 |\n| 3 |  3 | Shirline Hasser  | 22 | Female | 14:20 |\n| 4 |  4 | Alleyn Hartshorn | 39 | Male   | 17:06 |\n| 5 |  5 | Wang MacColl     | 50 | Male   | 16:49 |\n| 6 |  6 | Tonnie Tidder    | 44 | Male   | 15:43 |\n| 8 |  8 | Basil Moxsom     | 44 | Male   | 15:16 |\n| 9 |  9 | Lark Bragge      | 30 | Female | 15:59 |\n| 10 | 10 | Kent Wakely      | 60 | Male   | 14:29 |\n| 11 | 11 | Judye Hattrick   | 17 | Female | 15:27 |\n\n",
            "text/latex": "A data.frame: 10 × 5\n\\begin{tabular}{r|lllll}\n  & runner\\_bib & runner\\_name & runner\\_age & runner\\_gender & finish\\_time\\\\\n  & <int> & <chr> & <int> & <chr> & <chr>\\\\\n\\hline\n\t1 &  1 & Loydie Lopes     & 17 & Male   & 16:01\\\\\n\t2 &  2 & Lorens Crispe    & 33 & Male   & 15:40\\\\\n\t3 &  3 & Shirline Hasser  & 22 & Female & 14:20\\\\\n\t4 &  4 & Alleyn Hartshorn & 39 & Male   & 17:06\\\\\n\t5 &  5 & Wang MacColl     & 50 & Male   & 16:49\\\\\n\t6 &  6 & Tonnie Tidder    & 44 & Male   & 15:43\\\\\n\t8 &  8 & Basil Moxsom     & 44 & Male   & 15:16\\\\\n\t9 &  9 & Lark Bragge      & 30 & Female & 15:59\\\\\n\t10 & 10 & Kent Wakely      & 60 & Male   & 14:29\\\\\n\t11 & 11 & Judye Hattrick   & 17 & Female & 15:27\\\\\n\\end{tabular}\n",
            "text/plain": [
              "   runner_bib runner_name      runner_age runner_gender finish_time\n",
              "1   1         Loydie Lopes     17         Male          16:01      \n",
              "2   2         Lorens Crispe    33         Male          15:40      \n",
              "3   3         Shirline Hasser  22         Female        14:20      \n",
              "4   4         Alleyn Hartshorn 39         Male          17:06      \n",
              "5   5         Wang MacColl     50         Male          16:49      \n",
              "6   6         Tonnie Tidder    44         Male          15:43      \n",
              "8   8         Basil Moxsom     44         Male          15:16      \n",
              "9   9         Lark Bragge      30         Female        15:59      \n",
              "10 10         Kent Wakely      60         Male          14:29      \n",
              "11 11         Judye Hattrick   17         Female        15:27      "
            ]
          },
          "metadata": {}
        }
      ]
    },
    {
      "cell_type": "markdown",
      "source": [
        "Now display the first 10 rows of the cleaned dataset."
      ],
      "metadata": {
        "id": "Ccwu8bUx_Azj"
      }
    },
    {
      "cell_type": "markdown",
      "source": [
        "## 4. Calculate Elapsed Time (3 pts)"
      ],
      "metadata": {
        "id": "3-4dd8nsr_zF"
      }
    },
    {
      "cell_type": "markdown",
      "source": [
        "Using R, add a new column named `[\"finish_minutes\"]` to the dataframe that calculates the number of minutes it took for the runner to complete the race. Ideally this is a column consisting of plain integers.\n",
        "\n",
        "The starting gun was fired at precisely 12:00pm that day.\n",
        "\n",
        "Note: This is calculated using a built-in function of R, `difftime()` which takes 3 parameters:\n",
        "\n",
        "- End time\n",
        "- Start time\n",
        "- Units\n",
        "\n",
        "The result is an output that figures the difference between the two: `3 days`, `14 years`, `112 mins`, etc.\n",
        "\n",
        "The syntax for that function is below. Take care to use the proper order of parameters. The `as.POSIXct` casting makes it possible to read a long datetime in the `YYYY-MM-DDTHH:MM` format, a common `datetime` value. The `format` parameter specifies the pattern you are trying to read.\n",
        "\n",
        "```\n",
        "df$new-column <- (difftime( as.POSIXct(df$end-column, format=\"%Y-%m-%dT%H:%M\"),\n",
        "                            as.POSIXct(df$start-column, format=\"%Y-%m-%dT%H:%M\"),\n",
        "                            units=\"min\"))\n",
        "```"
      ],
      "metadata": {
        "id": "HrGLlM83vH0c"
      }
    },
    {
      "cell_type": "code",
      "source": [
        "# I did not include year and day because it seemed irelevent but I am not completely sure if that is correct\n",
        "dataset$finish_minutes <- c(difftime( as.POSIXct(dataset$finish_time, format=\"%H:%M\"),\n",
        "                            as.POSIXct(\"12:00\", format=\"%H:%M\"),\n",
        "                            units=\"min\"))\n",
        "head(dataset)"
      ],
      "metadata": {
        "id": "5HKqg1bfAXbl",
        "colab": {
          "base_uri": "https://localhost:8080/",
          "height": 286
        },
        "outputId": "8555c163-34f9-44f0-ce26-9665dc41651d"
      },
      "execution_count": 12,
      "outputs": [
        {
          "output_type": "display_data",
          "data": {
            "text/html": [
              "<table class=\"dataframe\">\n",
              "<caption>A data.frame: 6 × 6</caption>\n",
              "<thead>\n",
              "\t<tr><th></th><th scope=col>runner_bib</th><th scope=col>runner_name</th><th scope=col>runner_age</th><th scope=col>runner_gender</th><th scope=col>finish_time</th><th scope=col>finish_minutes</th></tr>\n",
              "\t<tr><th></th><th scope=col>&lt;int&gt;</th><th scope=col>&lt;chr&gt;</th><th scope=col>&lt;int&gt;</th><th scope=col>&lt;chr&gt;</th><th scope=col>&lt;chr&gt;</th><th scope=col>&lt;drtn&gt;</th></tr>\n",
              "</thead>\n",
              "<tbody>\n",
              "\t<tr><th scope=row>1</th><td>1</td><td>Loydie Lopes    </td><td>17</td><td>Male  </td><td>16:01</td><td>241 mins</td></tr>\n",
              "\t<tr><th scope=row>2</th><td>2</td><td>Lorens Crispe   </td><td>33</td><td>Male  </td><td>15:40</td><td>220 mins</td></tr>\n",
              "\t<tr><th scope=row>3</th><td>3</td><td>Shirline Hasser </td><td>22</td><td>Female</td><td>14:20</td><td>140 mins</td></tr>\n",
              "\t<tr><th scope=row>4</th><td>4</td><td>Alleyn Hartshorn</td><td>39</td><td>Male  </td><td>17:06</td><td>306 mins</td></tr>\n",
              "\t<tr><th scope=row>5</th><td>5</td><td>Wang MacColl    </td><td>50</td><td>Male  </td><td>16:49</td><td>289 mins</td></tr>\n",
              "\t<tr><th scope=row>6</th><td>6</td><td>Tonnie Tidder   </td><td>44</td><td>Male  </td><td>15:43</td><td>223 mins</td></tr>\n",
              "</tbody>\n",
              "</table>\n"
            ],
            "text/markdown": "\nA data.frame: 6 × 6\n\n| <!--/--> | runner_bib &lt;int&gt; | runner_name &lt;chr&gt; | runner_age &lt;int&gt; | runner_gender &lt;chr&gt; | finish_time &lt;chr&gt; | finish_minutes &lt;drtn&gt; |\n|---|---|---|---|---|---|---|\n| 1 | 1 | Loydie Lopes     | 17 | Male   | 16:01 | 241 mins |\n| 2 | 2 | Lorens Crispe    | 33 | Male   | 15:40 | 220 mins |\n| 3 | 3 | Shirline Hasser  | 22 | Female | 14:20 | 140 mins |\n| 4 | 4 | Alleyn Hartshorn | 39 | Male   | 17:06 | 306 mins |\n| 5 | 5 | Wang MacColl     | 50 | Male   | 16:49 | 289 mins |\n| 6 | 6 | Tonnie Tidder    | 44 | Male   | 15:43 | 223 mins |\n\n",
            "text/latex": "A data.frame: 6 × 6\n\\begin{tabular}{r|llllll}\n  & runner\\_bib & runner\\_name & runner\\_age & runner\\_gender & finish\\_time & finish\\_minutes\\\\\n  & <int> & <chr> & <int> & <chr> & <chr> & <drtn>\\\\\n\\hline\n\t1 & 1 & Loydie Lopes     & 17 & Male   & 16:01 & 241 mins\\\\\n\t2 & 2 & Lorens Crispe    & 33 & Male   & 15:40 & 220 mins\\\\\n\t3 & 3 & Shirline Hasser  & 22 & Female & 14:20 & 140 mins\\\\\n\t4 & 4 & Alleyn Hartshorn & 39 & Male   & 17:06 & 306 mins\\\\\n\t5 & 5 & Wang MacColl     & 50 & Male   & 16:49 & 289 mins\\\\\n\t6 & 6 & Tonnie Tidder    & 44 & Male   & 15:43 & 223 mins\\\\\n\\end{tabular}\n",
            "text/plain": [
              "  runner_bib runner_name      runner_age runner_gender finish_time\n",
              "1 1          Loydie Lopes     17         Male          16:01      \n",
              "2 2          Lorens Crispe    33         Male          15:40      \n",
              "3 3          Shirline Hasser  22         Female        14:20      \n",
              "4 4          Alleyn Hartshorn 39         Male          17:06      \n",
              "5 5          Wang MacColl     50         Male          16:49      \n",
              "6 6          Tonnie Tidder    44         Male          15:43      \n",
              "  finish_minutes\n",
              "1 241 mins      \n",
              "2 220 mins      \n",
              "3 140 mins      \n",
              "4 306 mins      \n",
              "5 289 mins      \n",
              "6 223 mins      "
            ]
          },
          "metadata": {}
        }
      ]
    },
    {
      "cell_type": "markdown",
      "source": [
        "## 5. Identify Winners by Gender (2 pts)"
      ],
      "metadata": {
        "id": "KKg8d9RDyeDa"
      }
    },
    {
      "cell_type": "markdown",
      "source": [
        "Based on the minutes it took each runner to complete the race, identify the top three places for each gender.\n",
        "\n",
        "There are several ways to do this, some of which require less code than others. You will only be graded for producing the correct output, not on how elegant/advanced your programming is."
      ],
      "metadata": {
        "id": "5kKBo3_sykGD"
      }
    },
    {
      "cell_type": "code",
      "source": [
        "# I orginally used a filter function but I could not limit the output to three, so i used the top_n function instead. I am not completely sure if that is correct though.\n",
        "dataset %>%\n",
        "  group_by(runner_gender) %>%\n",
        "  top_n(-3, finish_minutes) %>%\n",
        "  arrange(runner_gender, finish_minutes) %>%\n",
        "  ungroup()"
      ],
      "metadata": {
        "id": "UUnB9EvW1k5N",
        "outputId": "7f19e52c-8ea6-4df5-e7c6-98ac7a94d95b",
        "colab": {
          "base_uri": "https://localhost:8080/",
          "height": 882
        }
      },
      "execution_count": 27,
      "outputs": [
        {
          "output_type": "display_data",
          "data": {
            "text/html": [
              "<table class=\"dataframe\">\n",
              "<caption>A tibble: 25 × 6</caption>\n",
              "<thead>\n",
              "\t<tr><th scope=col>runner_bib</th><th scope=col>runner_name</th><th scope=col>runner_age</th><th scope=col>runner_gender</th><th scope=col>finish_time</th><th scope=col>finish_minutes</th></tr>\n",
              "\t<tr><th scope=col>&lt;int&gt;</th><th scope=col>&lt;chr&gt;</th><th scope=col>&lt;int&gt;</th><th scope=col>&lt;chr&gt;</th><th scope=col>&lt;chr&gt;</th><th scope=col>&lt;drtn&gt;</th></tr>\n",
              "</thead>\n",
              "<tbody>\n",
              "\t<tr><td>321</td><td>Jacobo Telling        </td><td>33</td><td>Agender    </td><td>14:47</td><td>167 mins</td></tr>\n",
              "\t<tr><td>480</td><td>Tomasina Greensall    </td><td>22</td><td>Agender    </td><td>15:12</td><td>192 mins</td></tr>\n",
              "\t<tr><td>332</td><td>Ina Bonifant          </td><td>30</td><td>Agender    </td><td>15:17</td><td>197 mins</td></tr>\n",
              "\t<tr><td>249</td><td>Sephira Kirgan        </td><td>33</td><td>Bigender   </td><td>14:24</td><td>144 mins</td></tr>\n",
              "\t<tr><td>546</td><td>Chauncey Langthorne   </td><td>16</td><td>Bigender   </td><td>14:29</td><td>149 mins</td></tr>\n",
              "\t<tr><td>263</td><td>Ernestus Draper       </td><td>45</td><td>Bigender   </td><td>14:58</td><td>178 mins</td></tr>\n",
              "\t<tr><td> 21</td><td>Carmencita Petrishchev</td><td>20</td><td>Female     </td><td>14:15</td><td>135 mins</td></tr>\n",
              "\t<tr><td>134</td><td>Marylin Standering    </td><td>18</td><td>Female     </td><td>14:15</td><td>135 mins</td></tr>\n",
              "\t<tr><td>238</td><td>Melloney Fonteyne     </td><td>20</td><td>Female     </td><td>14:15</td><td>135 mins</td></tr>\n",
              "\t<tr><td>415</td><td>Dalia Neathway        </td><td>56</td><td>Female     </td><td>14:15</td><td>135 mins</td></tr>\n",
              "\t<tr><td>152</td><td>Patrice Draye         </td><td>18</td><td>Genderfluid</td><td>14:15</td><td>135 mins</td></tr>\n",
              "\t<tr><td>606</td><td>Nonna Restill         </td><td>57</td><td>Genderfluid</td><td>14:24</td><td>144 mins</td></tr>\n",
              "\t<tr><td>421</td><td>Neysa Willatt         </td><td>60</td><td>Genderfluid</td><td>14:33</td><td>153 mins</td></tr>\n",
              "\t<tr><td>547</td><td>Patin Dawidowitsch    </td><td>17</td><td>Genderqueer</td><td>15:27</td><td>207 mins</td></tr>\n",
              "\t<tr><td>527</td><td>Bobby Sykes           </td><td>52</td><td>Genderqueer</td><td>15:28</td><td>208 mins</td></tr>\n",
              "\t<tr><td>590</td><td>Abigale Beedle        </td><td>41</td><td>Genderqueer</td><td>15:34</td><td>214 mins</td></tr>\n",
              "\t<tr><td>393</td><td>Ker Dearden           </td><td>62</td><td>Male       </td><td>14:15</td><td>135 mins</td></tr>\n",
              "\t<tr><td>114</td><td>Arin Maffezzoli       </td><td>52</td><td>Male       </td><td>14:18</td><td>138 mins</td></tr>\n",
              "\t<tr><td>325</td><td>Holt Teissier         </td><td>36</td><td>Male       </td><td>14:18</td><td>138 mins</td></tr>\n",
              "\t<tr><td>341</td><td>Gaylor Buckett        </td><td>17</td><td>Non-binary </td><td>14:29</td><td>149 mins</td></tr>\n",
              "\t<tr><td> 38</td><td>Mellie Merryfield     </td><td>54</td><td>Non-binary </td><td>15:03</td><td>183 mins</td></tr>\n",
              "\t<tr><td>426</td><td>Base Dukes            </td><td>62</td><td>Non-binary </td><td>15:19</td><td>199 mins</td></tr>\n",
              "\t<tr><td>283</td><td>Karyl Pyne            </td><td>38</td><td>Polygender </td><td>14:21</td><td>141 mins</td></tr>\n",
              "\t<tr><td>356</td><td>Alair Blyde           </td><td>42</td><td>Polygender </td><td>14:27</td><td>147 mins</td></tr>\n",
              "\t<tr><td>578</td><td>Dagmar Bedburrow      </td><td>47</td><td>Polygender </td><td>14:49</td><td>169 mins</td></tr>\n",
              "</tbody>\n",
              "</table>\n"
            ],
            "text/markdown": "\nA tibble: 25 × 6\n\n| runner_bib &lt;int&gt; | runner_name &lt;chr&gt; | runner_age &lt;int&gt; | runner_gender &lt;chr&gt; | finish_time &lt;chr&gt; | finish_minutes &lt;drtn&gt; |\n|---|---|---|---|---|---|\n| 321 | Jacobo Telling         | 33 | Agender     | 14:47 | 167 mins |\n| 480 | Tomasina Greensall     | 22 | Agender     | 15:12 | 192 mins |\n| 332 | Ina Bonifant           | 30 | Agender     | 15:17 | 197 mins |\n| 249 | Sephira Kirgan         | 33 | Bigender    | 14:24 | 144 mins |\n| 546 | Chauncey Langthorne    | 16 | Bigender    | 14:29 | 149 mins |\n| 263 | Ernestus Draper        | 45 | Bigender    | 14:58 | 178 mins |\n|  21 | Carmencita Petrishchev | 20 | Female      | 14:15 | 135 mins |\n| 134 | Marylin Standering     | 18 | Female      | 14:15 | 135 mins |\n| 238 | Melloney Fonteyne      | 20 | Female      | 14:15 | 135 mins |\n| 415 | Dalia Neathway         | 56 | Female      | 14:15 | 135 mins |\n| 152 | Patrice Draye          | 18 | Genderfluid | 14:15 | 135 mins |\n| 606 | Nonna Restill          | 57 | Genderfluid | 14:24 | 144 mins |\n| 421 | Neysa Willatt          | 60 | Genderfluid | 14:33 | 153 mins |\n| 547 | Patin Dawidowitsch     | 17 | Genderqueer | 15:27 | 207 mins |\n| 527 | Bobby Sykes            | 52 | Genderqueer | 15:28 | 208 mins |\n| 590 | Abigale Beedle         | 41 | Genderqueer | 15:34 | 214 mins |\n| 393 | Ker Dearden            | 62 | Male        | 14:15 | 135 mins |\n| 114 | Arin Maffezzoli        | 52 | Male        | 14:18 | 138 mins |\n| 325 | Holt Teissier          | 36 | Male        | 14:18 | 138 mins |\n| 341 | Gaylor Buckett         | 17 | Non-binary  | 14:29 | 149 mins |\n|  38 | Mellie Merryfield      | 54 | Non-binary  | 15:03 | 183 mins |\n| 426 | Base Dukes             | 62 | Non-binary  | 15:19 | 199 mins |\n| 283 | Karyl Pyne             | 38 | Polygender  | 14:21 | 141 mins |\n| 356 | Alair Blyde            | 42 | Polygender  | 14:27 | 147 mins |\n| 578 | Dagmar Bedburrow       | 47 | Polygender  | 14:49 | 169 mins |\n\n",
            "text/latex": "A tibble: 25 × 6\n\\begin{tabular}{llllll}\n runner\\_bib & runner\\_name & runner\\_age & runner\\_gender & finish\\_time & finish\\_minutes\\\\\n <int> & <chr> & <int> & <chr> & <chr> & <drtn>\\\\\n\\hline\n\t 321 & Jacobo Telling         & 33 & Agender     & 14:47 & 167 mins\\\\\n\t 480 & Tomasina Greensall     & 22 & Agender     & 15:12 & 192 mins\\\\\n\t 332 & Ina Bonifant           & 30 & Agender     & 15:17 & 197 mins\\\\\n\t 249 & Sephira Kirgan         & 33 & Bigender    & 14:24 & 144 mins\\\\\n\t 546 & Chauncey Langthorne    & 16 & Bigender    & 14:29 & 149 mins\\\\\n\t 263 & Ernestus Draper        & 45 & Bigender    & 14:58 & 178 mins\\\\\n\t  21 & Carmencita Petrishchev & 20 & Female      & 14:15 & 135 mins\\\\\n\t 134 & Marylin Standering     & 18 & Female      & 14:15 & 135 mins\\\\\n\t 238 & Melloney Fonteyne      & 20 & Female      & 14:15 & 135 mins\\\\\n\t 415 & Dalia Neathway         & 56 & Female      & 14:15 & 135 mins\\\\\n\t 152 & Patrice Draye          & 18 & Genderfluid & 14:15 & 135 mins\\\\\n\t 606 & Nonna Restill          & 57 & Genderfluid & 14:24 & 144 mins\\\\\n\t 421 & Neysa Willatt          & 60 & Genderfluid & 14:33 & 153 mins\\\\\n\t 547 & Patin Dawidowitsch     & 17 & Genderqueer & 15:27 & 207 mins\\\\\n\t 527 & Bobby Sykes            & 52 & Genderqueer & 15:28 & 208 mins\\\\\n\t 590 & Abigale Beedle         & 41 & Genderqueer & 15:34 & 214 mins\\\\\n\t 393 & Ker Dearden            & 62 & Male        & 14:15 & 135 mins\\\\\n\t 114 & Arin Maffezzoli        & 52 & Male        & 14:18 & 138 mins\\\\\n\t 325 & Holt Teissier          & 36 & Male        & 14:18 & 138 mins\\\\\n\t 341 & Gaylor Buckett         & 17 & Non-binary  & 14:29 & 149 mins\\\\\n\t  38 & Mellie Merryfield      & 54 & Non-binary  & 15:03 & 183 mins\\\\\n\t 426 & Base Dukes             & 62 & Non-binary  & 15:19 & 199 mins\\\\\n\t 283 & Karyl Pyne             & 38 & Polygender  & 14:21 & 141 mins\\\\\n\t 356 & Alair Blyde            & 42 & Polygender  & 14:27 & 147 mins\\\\\n\t 578 & Dagmar Bedburrow       & 47 & Polygender  & 14:49 & 169 mins\\\\\n\\end{tabular}\n",
            "text/plain": [
              "   runner_bib runner_name            runner_age runner_gender finish_time\n",
              "1  321        Jacobo Telling         33         Agender       14:47      \n",
              "2  480        Tomasina Greensall     22         Agender       15:12      \n",
              "3  332        Ina Bonifant           30         Agender       15:17      \n",
              "4  249        Sephira Kirgan         33         Bigender      14:24      \n",
              "5  546        Chauncey Langthorne    16         Bigender      14:29      \n",
              "6  263        Ernestus Draper        45         Bigender      14:58      \n",
              "7   21        Carmencita Petrishchev 20         Female        14:15      \n",
              "8  134        Marylin Standering     18         Female        14:15      \n",
              "9  238        Melloney Fonteyne      20         Female        14:15      \n",
              "10 415        Dalia Neathway         56         Female        14:15      \n",
              "11 152        Patrice Draye          18         Genderfluid   14:15      \n",
              "12 606        Nonna Restill          57         Genderfluid   14:24      \n",
              "13 421        Neysa Willatt          60         Genderfluid   14:33      \n",
              "14 547        Patin Dawidowitsch     17         Genderqueer   15:27      \n",
              "15 527        Bobby Sykes            52         Genderqueer   15:28      \n",
              "16 590        Abigale Beedle         41         Genderqueer   15:34      \n",
              "17 393        Ker Dearden            62         Male          14:15      \n",
              "18 114        Arin Maffezzoli        52         Male          14:18      \n",
              "19 325        Holt Teissier          36         Male          14:18      \n",
              "20 341        Gaylor Buckett         17         Non-binary    14:29      \n",
              "21  38        Mellie Merryfield      54         Non-binary    15:03      \n",
              "22 426        Base Dukes             62         Non-binary    15:19      \n",
              "23 283        Karyl Pyne             38         Polygender    14:21      \n",
              "24 356        Alair Blyde            42         Polygender    14:27      \n",
              "25 578        Dagmar Bedburrow       47         Polygender    14:49      \n",
              "   finish_minutes\n",
              "1  167 mins      \n",
              "2  192 mins      \n",
              "3  197 mins      \n",
              "4  144 mins      \n",
              "5  149 mins      \n",
              "6  178 mins      \n",
              "7  135 mins      \n",
              "8  135 mins      \n",
              "9  135 mins      \n",
              "10 135 mins      \n",
              "11 135 mins      \n",
              "12 144 mins      \n",
              "13 153 mins      \n",
              "14 207 mins      \n",
              "15 208 mins      \n",
              "16 214 mins      \n",
              "17 135 mins      \n",
              "18 138 mins      \n",
              "19 138 mins      \n",
              "20 149 mins      \n",
              "21 183 mins      \n",
              "22 199 mins      \n",
              "23 141 mins      \n",
              "24 147 mins      \n",
              "25 169 mins      "
            ]
          },
          "metadata": {}
        }
      ]
    },
    {
      "cell_type": "markdown",
      "source": [
        "## 6. Plot the Data (3 pts)"
      ],
      "metadata": {
        "id": "2B9dxJbno0s0"
      }
    },
    {
      "cell_type": "markdown",
      "source": [
        "Finally, using `ggplot2` create two plots of the data -- density plots of race finishers.\n",
        "\n",
        "- In the first plot use `finish_minutes` as the x axis.\n",
        "- In the second plot use `runner_age` as the x axis.\n",
        "- Use `runner_gender` as the fill.\n",
        "- We suggest using a `geom_density(alpha=0.2)` or therabouts to see layers through one another.\n",
        "- Use the `gridExtra` library's `grid.arrange()` method to plot them both.\n",
        "\n",
        "You will note that since this is artificial data you will be able to see the gender layers clearly enough but they will not be statistically meaningful."
      ],
      "metadata": {
        "id": "LwMrL6-AplCH"
      }
    },
    {
      "cell_type": "code",
      "source": [
        "#\n",
        "library(ggplot2)\n",
        "install.packages(\"gridExtra\")\n",
        "library(gridExtra)"
      ],
      "metadata": {
        "id": "9vDIw9YeERNx",
        "colab": {
          "base_uri": "https://localhost:8080/"
        },
        "outputId": "b71e0e6f-c6f5-4d81-f4cc-58050f5d9e62"
      },
      "execution_count": 17,
      "outputs": [
        {
          "output_type": "stream",
          "name": "stderr",
          "text": [
            "Installing package into ‘/usr/local/lib/R/site-library’\n",
            "(as ‘lib’ is unspecified)\n",
            "\n",
            "\n",
            "Attaching package: ‘gridExtra’\n",
            "\n",
            "\n",
            "The following object is masked from ‘package:dplyr’:\n",
            "\n",
            "    combine\n",
            "\n",
            "\n"
          ]
        }
      ]
    },
    {
      "cell_type": "code",
      "source": [
        "plot_finish_minutes <- ggplot(dataset, aes(x = finish_minutes, fill = runner_gender)) +\n",
        "  geom_density(alpha = 0.2) +\n",
        "  labs(title = \"Plot of Finish Time by Gender\")\n",
        "\n",
        "plot_runner_age <- ggplot(dataset, aes(x= finish_minutes, fill = runner_gender)) +\n",
        "  geom_density(alpha = 0.2) +\n",
        "  labs(title = \"Plots of Finish Time by Age\")"
      ],
      "metadata": {
        "id": "64NhwYGZ0JRh"
      },
      "execution_count": 18,
      "outputs": []
    },
    {
      "cell_type": "code",
      "source": [
        "# I am not sure why there is so much text at the top but both graphs still were ouputed\n",
        "grid.arrange(plot_finish_minutes, plot_runner_age, ncol = 2)\n",
        "return"
      ],
      "metadata": {
        "id": "NdGC0oJh0hdY",
        "outputId": "9bb0bbdc-1dc6-4e4d-e0f3-6715462aae40",
        "colab": {
          "base_uri": "https://localhost:8080/",
          "height": 528
        }
      },
      "execution_count": 20,
      "outputs": [
        {
          "output_type": "stream",
          "name": "stderr",
          "text": [
            "\u001b[1m\u001b[22mDon't know how to automatically pick scale for object of type \u001b[34m<difftime>\u001b[39m.\n",
            "Defaulting to continuous.\n",
            "\u001b[1m\u001b[22mDon't know how to automatically pick scale for object of type \u001b[34m<difftime>\u001b[39m.\n",
            "Defaulting to continuous.\n"
          ]
        },
        {
          "output_type": "display_data",
          "data": {
            "text/html": [
              "<pre class=language-r><code>.Primitive(\"return\")</code></pre>"
            ],
            "text/markdown": "```r\n.Primitive(\"return\")\n```",
            "text/latex": "\\begin{minted}{r}\n.Primitive(\"return\")\n\\end{minted}",
            "text/plain": [
              ".Primitive(\"return\")"
            ]
          },
          "metadata": {}
        },
        {
          "output_type": "display_data",
          "data": {
            "text/plain": [
              "plot without title"
            ],
            "image/png": "[encoded data removed]"
          },
          "metadata": {
            "image/png": {
              "width": 420,
              "height": 420
            }
          }
        }
      ]
    }
  ]
}