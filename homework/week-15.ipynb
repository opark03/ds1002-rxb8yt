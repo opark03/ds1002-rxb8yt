{
  "nbformat": 4,
  "nbformat_minor": 0,
  "metadata": {
    "colab": {
      "provenance": [],
      "include_colab_link": true
    },
    "kernelspec": {
      "name": "ir",
      "display_name": "R"
    },
    "language_info": {
      "name": "R"
    }
  },
  "cells": [
    {
      "cell_type": "markdown",
      "metadata": {
        "id": "view-in-github",
        "colab_type": "text"
      },
      "source": [
        "<a href=\"https://colab.research.google.com/github/opark03/ds1002-rxb8yt/blob/main/homework/week-15.ipynb\" target=\"_parent\"><img src=\"https://colab.research.google.com/assets/colab-badge.svg\" alt=\"Open In Colab\"/></a>"
      ]
    },
    {
      "cell_type": "markdown",
      "source": [
        "# Homework - Week 15\n",
        "\n",
        "Complete the following blocks as specified in the directions. Run each cell to return the desired output. Save your notebook back to your GitHub repository and submit the GitHub URL to your notebook for review."
      ],
      "metadata": {
        "id": "sZruw3XQogej"
      }
    },
    {
      "cell_type": "markdown",
      "source": [
        "## 1. Create Functions (4 pts)\n",
        "\n",
        "Create two functions in the cells below, according to the prompts given."
      ],
      "metadata": {
        "id": "lkaofBQypx1X"
      }
    },
    {
      "cell_type": "code",
      "source": [
        "# create a function in R that:\n",
        "#   1. takes a single integer as an input parameter\n",
        "#   2. determines whether the integer is even or odd\n",
        "#   3. returns a character statement \"The integer <x> is even\" or \"The integer <x> is odd\" (replace <x> with the actual input provided)\n",
        "#\n",
        "# then execute the function twice using two different input values, displaying even and odd results.\n",
        "\n",
        "even_or_odd <- function(x){ if (x %% 2 == 1) {\n",
        "    return(sprintf(\"The integer %i is even\", x))\n",
        "  } else {\n",
        "    return(sprintf(\"The integer %i is odd\", x))\n",
        "  }\n",
        "}\n",
        "\n",
        "even_or_odd(3)\n",
        "even_or_odd(4)"
      ],
      "metadata": {
        "id": "1fjq5bkEp6Zv",
        "colab": {
          "base_uri": "https://localhost:8080/",
          "height": 52
        },
        "outputId": "aff71b0c-217c-4a6e-fdd4-0cfa8983d5ba"
      },
      "execution_count": 5,
      "outputs": [
        {
          "output_type": "display_data",
          "data": {
            "text/html": [
              "'The integer 3 is even'"
            ],
            "text/markdown": "'The integer 3 is even'",
            "text/latex": "'The integer 3 is even'",
            "text/plain": [
              "[1] \"The integer 3 is even\""
            ]
          },
          "metadata": {}
        },
        {
          "output_type": "display_data",
          "data": {
            "text/html": [
              "'The integer 4 is odd'"
            ],
            "text/markdown": "'The integer 4 is odd'",
            "text/latex": "'The integer 4 is odd'",
            "text/plain": [
              "[1] \"The integer 4 is odd\""
            ]
          },
          "metadata": {}
        }
      ]
    },
    {
      "cell_type": "code",
      "source": [
        "# create a function in R that:\n",
        "#   1. takes 4 integer input parameters\n",
        "#   2. returns the mean value of the inputs\n",
        "#   3. has default values for the 4 input parameters, in case they are not provided when the function is called.\n",
        "#\n",
        "# then execute the function twice: once where you provide the input values, and once where you do not.\n",
        "\n",
        "# i am not sure if i did the second part correct without providing parameters\n",
        "\n",
        "mean_value_calculator <- function(a=0, b=0, c=0, d=0) {\n",
        "  mean_val <- mean(c(a, b, c, d))\n",
        "  return(mean_val)\n",
        "\n",
        "}\n",
        "\n",
        "mean_value_calculator(12, 16, 25, 9)\n",
        "mean_value_calculator()"
      ],
      "metadata": {
        "id": "f3IFD-T6p6Rd",
        "colab": {
          "base_uri": "https://localhost:8080/",
          "height": 52
        },
        "outputId": "38faf46f-aa77-4099-fa9f-717be792e778"
      },
      "execution_count": 8,
      "outputs": [
        {
          "output_type": "display_data",
          "data": {
            "text/html": [
              "15.5"
            ],
            "text/markdown": "15.5",
            "text/latex": "15.5",
            "text/plain": [
              "[1] 15.5"
            ]
          },
          "metadata": {}
        },
        {
          "output_type": "display_data",
          "data": {
            "text/html": [
              "0"
            ],
            "text/markdown": "0",
            "text/latex": "0",
            "text/plain": [
              "[1] 0"
            ]
          },
          "metadata": {}
        }
      ]
    },
    {
      "cell_type": "markdown",
      "source": [
        "## 2. Plot Data (4 pts)"
      ],
      "metadata": {
        "id": "F6Rx0GIGrpOB"
      }
    },
    {
      "cell_type": "markdown",
      "source": [
        "In the cell below, write the code required to plot from the `msleep` sample data set.\n",
        "\n",
        "1. Display only animals with body weights of 30 or greater.\n",
        "2. Group the animals by `order`.\n",
        "3. Display the mean `sleep_total` for each group in a bar plot."
      ],
      "metadata": {
        "id": "IDLyOjOJsFCX"
      }
    },
    {
      "cell_type": "code",
      "source": [
        "#\n",
        "library(tidyverse)\n",
        "library(ggplot2)\n",
        "install.packages(\"gapminder\")\n",
        "library(gapminder)"
      ],
      "metadata": {
        "id": "0D5Ia-BPsoPZ",
        "colab": {
          "base_uri": "https://localhost:8080/"
        },
        "outputId": "3248d979-d619-42e4-bca7-32a0d9726a3e"
      },
      "execution_count": 76,
      "outputs": [
        {
          "output_type": "stream",
          "name": "stderr",
          "text": [
            "Installing package into ‘/usr/local/lib/R/site-library’\n",
            "(as ‘lib’ is unspecified)\n",
            "\n"
          ]
        }
      ]
    },
    {
      "cell_type": "code",
      "source": [
        "msleep"
      ],
      "metadata": {
        "id": "r6w9_SvjWiDL"
      },
      "execution_count": null,
      "outputs": []
    },
    {
      "cell_type": "code",
      "source": [
        "filtereddata <- msleep %>% filter(bodywt >= 30)\n",
        "\n",
        "graph_data <- filtereddata %>%\n",
        "  group_by(order) %>%\n",
        "  summarise(mean_sleep = mean(sleep_total))"
      ],
      "metadata": {
        "id": "IEqS_Ak4S4pO"
      },
      "execution_count": 45,
      "outputs": []
    },
    {
      "cell_type": "code",
      "source": [
        "ggplot(graph_data, aes(x=mean_sleep, fill=order)) + geom_histogram(binwidth = 1)"
      ],
      "metadata": {
        "colab": {
          "base_uri": "https://localhost:8080/",
          "height": 437
        },
        "id": "vZw_ey2YSREK",
        "outputId": "4c33cad0-9112-4c0c-d0fb-9dc00c1fc50f"
      },
      "execution_count": 79,
      "outputs": [
        {
          "output_type": "display_data",
          "data": {
            "text/plain": [
              "plot without title"
            ],
            "image/png": "[encoded data removed]"
          },
          "metadata": {
            "image/png": {
              "width": 420,
              "height": 420
            }
          }
        }
      ]
    },
    {
      "cell_type": "markdown",
      "source": [
        "## 3. Clean and Analyze Data Using R (4 pts)\n",
        "\n",
        "In the cells below use R to perform the following data cleaning steps on this file:\n",
        "https://raw.githubusercontent.com/nmagee/ds1002/main/data/social-media-users.csv\n",
        "\n",
        "1. Remove any duplicate rows.\n",
        "2. Remove any records where `last_login` or `birthdate` are empty.\n",
        "3. Display only the records with the 10 highest `follower` counts.\n",
        "4. Determine counts of users when grouped by continent."
      ],
      "metadata": {
        "id": "-2ZaFcCCv3o8"
      }
    },
    {
      "cell_type": "code",
      "source": [
        "#\n",
        "library(dplyr)\n",
        "library(readr)\n",
        "content <- read.csv(\"https://raw.githubusercontent.com/nmagee/ds1002/main/data/social-media-users.csv\")"
      ],
      "metadata": {
        "id": "V4nBsdVsyauQ",
        "colab": {
          "base_uri": "https://localhost:8080/"
        },
        "outputId": "298a39aa-cd80-4dac-b2d1-f2fd06345026"
      },
      "execution_count": 9,
      "outputs": [
        {
          "output_type": "stream",
          "name": "stderr",
          "text": [
            "\n",
            "Attaching package: ‘dplyr’\n",
            "\n",
            "\n",
            "The following objects are masked from ‘package:stats’:\n",
            "\n",
            "    filter, lag\n",
            "\n",
            "\n",
            "The following objects are masked from ‘package:base’:\n",
            "\n",
            "    intersect, setdiff, setequal, union\n",
            "\n",
            "\n"
          ]
        }
      ]
    },
    {
      "cell_type": "code",
      "source": [
        "content"
      ],
      "metadata": {
        "id": "_c-M4mH89IPZ"
      },
      "execution_count": null,
      "outputs": []
    },
    {
      "cell_type": "code",
      "source": [
        "content <- distinct(content)"
      ],
      "metadata": {
        "id": "LwXD1sNulIT3"
      },
      "execution_count": 11,
      "outputs": []
    },
    {
      "cell_type": "code",
      "source": [
        "content <- content %>%\n",
        "  filter(!is.na(last_login) & !is.na(birthdate)) %>%\n",
        "  group_by(continent) %>%\n",
        "  arrange(desc(followers)) %>%\n",
        "  head(10)"
      ],
      "metadata": {
        "id": "7qa100btlI4Z"
      },
      "execution_count": 28,
      "outputs": []
    },
    {
      "cell_type": "code",
      "source": [
        "content\n"
      ],
      "metadata": {
        "id": "MjrZisnxlJUa",
        "colab": {
          "base_uri": "https://localhost:8080/",
          "height": 412
        },
        "outputId": "43d1cb5a-51b2-46d1-b617-8e2e52bdc441"
      },
      "execution_count": 30,
      "outputs": [
        {
          "output_type": "display_data",
          "data": {
            "text/html": [
              "<table class=\"dataframe\">\n",
              "<caption>A grouped_df: 10 × 8</caption>\n",
              "<thead>\n",
              "\t<tr><th scope=col>username</th><th scope=col>full_name</th><th scope=col>birthdate</th><th scope=col>email</th><th scope=col>continent</th><th scope=col>followers</th><th scope=col>last_login</th><th scope=col>interests</th></tr>\n",
              "\t<tr><th scope=col>&lt;chr&gt;</th><th scope=col>&lt;chr&gt;</th><th scope=col>&lt;chr&gt;</th><th scope=col>&lt;chr&gt;</th><th scope=col>&lt;chr&gt;</th><th scope=col>&lt;int&gt;</th><th scope=col>&lt;chr&gt;</th><th scope=col>&lt;chr&gt;</th></tr>\n",
              "</thead>\n",
              "<tbody>\n",
              "\t<tr><td>tfolkc7       </td><td>Tanney Folk          </td><td>12/26/2000</td><td>tfolkc7@blogger.com           </td><td>EU</td><td>941</td><td>11/21/2020</td><td>sports</td></tr>\n",
              "\t<tr><td>gfassumfg     </td><td>Garry Fassum         </td><td>5/21/1995 </td><td>gfassumfg@google.es           </td><td>AS</td><td>925</td><td>4/18/2023 </td><td>music </td></tr>\n",
              "\t<tr><td>kyoellgl      </td><td>Karine Yoell         </td><td>6/14/1994 </td><td>kyoellgl@twitter.com          </td><td>AF</td><td>905</td><td>1/14/2020 </td><td>travel</td></tr>\n",
              "\t<tr><td>mdavitt8a     </td><td>Mychal Davitt        </td><td>4/29/1982 </td><td>mdavitt8a@typepad.com         </td><td>NA</td><td>563</td><td>1/9/2021  </td><td>travel</td></tr>\n",
              "\t<tr><td>mdimitrescu8m </td><td>Marcelline Dimitrescu</td><td>3/28/1990 </td><td>mdimitrescu8m@toplist.cz      </td><td>EU</td><td>546</td><td>          </td><td>music </td></tr>\n",
              "\t<tr><td>chawesq       </td><td>Courtnay Hawes       </td><td>          </td><td>chawesq@deviantart.com        </td><td>AF</td><td>435</td><td>3/19/2023 </td><td>music </td></tr>\n",
              "\t<tr><td>sgoochh4      </td><td>Sigfrid Gooch        </td><td>7/1/1984  </td><td>sgoochh4@de.vu                </td><td>AF</td><td>375</td><td>          </td><td>sports</td></tr>\n",
              "\t<tr><td>lcolviemr     </td><td>Lana Colvie          </td><td>1/10/1990 </td><td>lcolviemr@sciencedirect.com   </td><td>EU</td><td>267</td><td>9/11/2020 </td><td>sports</td></tr>\n",
              "\t<tr><td>smcreathed    </td><td>Shara McReath        </td><td>          </td><td>smcreathed@php.net            </td><td>AF</td><td>109</td><td>4/9/2021  </td><td>travel</td></tr>\n",
              "\t<tr><td>vmacterrellyrm</td><td>Virginie MacTerrelly </td><td>10/8/1994 </td><td>vmacterrellyrm@dailymotion.com</td><td>AS</td><td> 81</td><td>9/11/2023 </td><td>sports</td></tr>\n",
              "</tbody>\n",
              "</table>\n"
            ],
            "text/markdown": "\nA grouped_df: 10 × 8\n\n| username &lt;chr&gt; | full_name &lt;chr&gt; | birthdate &lt;chr&gt; | email &lt;chr&gt; | continent &lt;chr&gt; | followers &lt;int&gt; | last_login &lt;chr&gt; | interests &lt;chr&gt; |\n|---|---|---|---|---|---|---|---|\n| tfolkc7        | Tanney Folk           | 12/26/2000 | tfolkc7@blogger.com            | EU | 941 | 11/21/2020 | sports |\n| gfassumfg      | Garry Fassum          | 5/21/1995  | gfassumfg@google.es            | AS | 925 | 4/18/2023  | music  |\n| kyoellgl       | Karine Yoell          | 6/14/1994  | kyoellgl@twitter.com           | AF | 905 | 1/14/2020  | travel |\n| mdavitt8a      | Mychal Davitt         | 4/29/1982  | mdavitt8a@typepad.com          | NA | 563 | 1/9/2021   | travel |\n| mdimitrescu8m  | Marcelline Dimitrescu | 3/28/1990  | mdimitrescu8m@toplist.cz       | EU | 546 | <!----> | music  |\n| chawesq        | Courtnay Hawes        | <!----> | chawesq@deviantart.com         | AF | 435 | 3/19/2023  | music  |\n| sgoochh4       | Sigfrid Gooch         | 7/1/1984   | sgoochh4@de.vu                 | AF | 375 | <!----> | sports |\n| lcolviemr      | Lana Colvie           | 1/10/1990  | lcolviemr@sciencedirect.com    | EU | 267 | 9/11/2020  | sports |\n| smcreathed     | Shara McReath         | <!----> | smcreathed@php.net             | AF | 109 | 4/9/2021   | travel |\n| vmacterrellyrm | Virginie MacTerrelly  | 10/8/1994  | vmacterrellyrm@dailymotion.com | AS |  81 | 9/11/2023  | sports |\n\n",
            "text/latex": "A grouped\\_df: 10 × 8\n\\begin{tabular}{llllllll}\n username & full\\_name & birthdate & email & continent & followers & last\\_login & interests\\\\\n <chr> & <chr> & <chr> & <chr> & <chr> & <int> & <chr> & <chr>\\\\\n\\hline\n\t tfolkc7        & Tanney Folk           & 12/26/2000 & tfolkc7@blogger.com            & EU & 941 & 11/21/2020 & sports\\\\\n\t gfassumfg      & Garry Fassum          & 5/21/1995  & gfassumfg@google.es            & AS & 925 & 4/18/2023  & music \\\\\n\t kyoellgl       & Karine Yoell          & 6/14/1994  & kyoellgl@twitter.com           & AF & 905 & 1/14/2020  & travel\\\\\n\t mdavitt8a      & Mychal Davitt         & 4/29/1982  & mdavitt8a@typepad.com          & NA & 563 & 1/9/2021   & travel\\\\\n\t mdimitrescu8m  & Marcelline Dimitrescu & 3/28/1990  & mdimitrescu8m@toplist.cz       & EU & 546 &            & music \\\\\n\t chawesq        & Courtnay Hawes        &            & chawesq@deviantart.com         & AF & 435 & 3/19/2023  & music \\\\\n\t sgoochh4       & Sigfrid Gooch         & 7/1/1984   & sgoochh4@de.vu                 & AF & 375 &            & sports\\\\\n\t lcolviemr      & Lana Colvie           & 1/10/1990  & lcolviemr@sciencedirect.com    & EU & 267 & 9/11/2020  & sports\\\\\n\t smcreathed     & Shara McReath         &            & smcreathed@php.net             & AF & 109 & 4/9/2021   & travel\\\\\n\t vmacterrellyrm & Virginie MacTerrelly  & 10/8/1994  & vmacterrellyrm@dailymotion.com & AS &  81 & 9/11/2023  & sports\\\\\n\\end{tabular}\n",
            "text/plain": [
              "   username       full_name             birthdate \n",
              "1  tfolkc7        Tanney Folk           12/26/2000\n",
              "2  gfassumfg      Garry Fassum          5/21/1995 \n",
              "3  kyoellgl       Karine Yoell          6/14/1994 \n",
              "4  mdavitt8a      Mychal Davitt         4/29/1982 \n",
              "5  mdimitrescu8m  Marcelline Dimitrescu 3/28/1990 \n",
              "6  chawesq        Courtnay Hawes                  \n",
              "7  sgoochh4       Sigfrid Gooch         7/1/1984  \n",
              "8  lcolviemr      Lana Colvie           1/10/1990 \n",
              "9  smcreathed     Shara McReath                   \n",
              "10 vmacterrellyrm Virginie MacTerrelly  10/8/1994 \n",
              "   email                          continent followers last_login interests\n",
              "1  tfolkc7@blogger.com            EU        941       11/21/2020 sports   \n",
              "2  gfassumfg@google.es            AS        925       4/18/2023  music    \n",
              "3  kyoellgl@twitter.com           AF        905       1/14/2020  travel   \n",
              "4  mdavitt8a@typepad.com          NA        563       1/9/2021   travel   \n",
              "5  mdimitrescu8m@toplist.cz       EU        546                  music    \n",
              "6  chawesq@deviantart.com         AF        435       3/19/2023  music    \n",
              "7  sgoochh4@de.vu                 AF        375                  sports   \n",
              "8  lcolviemr@sciencedirect.com    EU        267       9/11/2020  sports   \n",
              "9  smcreathed@php.net             AF        109       4/9/2021   travel   \n",
              "10 vmacterrellyrm@dailymotion.com AS         81       9/11/2023  sports   "
            ]
          },
          "metadata": {}
        }
      ]
    }
  ]
}