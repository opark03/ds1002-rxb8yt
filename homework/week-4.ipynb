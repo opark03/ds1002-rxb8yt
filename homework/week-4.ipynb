{
  "nbformat": 4,
  "nbformat_minor": 0,
  "metadata": {
    "colab": {
      "provenance": [],
      "include_colab_link": true
    },
    "kernelspec": {
      "name": "python3",
      "display_name": "Python 3"
    },
    "language_info": {
      "name": "python"
    }
  },
  "cells": [
    {
      "cell_type": "markdown",
      "metadata": {
        "id": "view-in-github",
        "colab_type": "text"
      },
      "source": [
        "<a href=\"https://colab.research.google.com/github/opark03/ds1002-rxb8yt/blob/main/homework/week-4.ipynb\" target=\"_parent\"><img src=\"https://colab.research.google.com/assets/colab-badge.svg\" alt=\"Open In Colab\"/></a>"
      ]
    },
    {
      "cell_type": "markdown",
      "source": [
        "# Homework - Week 4\n",
        "\n",
        "Complete the following blocks as specified in the directions. Run each cell to return the desired output. Save your notebook back to your GitHub repository and submit the GitHub URL for your notebook for review."
      ],
      "metadata": {
        "id": "xJ6ZWHKXW4qY"
      }
    },
    {
      "cell_type": "markdown",
      "source": [
        "## 1. Data Types\n",
        "\n",
        "```python\n",
        "s = \"Fox\"\n",
        "x = 17\n",
        "y = \"3\"\n",
        "z = \"false\"\n",
        "```\n",
        "\n",
        "Using the variables above answer these questions:"
      ],
      "metadata": {
        "id": "atxtPF2-XXiW"
      }
    },
    {
      "cell_type": "code",
      "execution_count": 2,
      "metadata": {
        "id": "mdX0VBQgW1-9",
        "colab": {
          "base_uri": "https://localhost:8080/"
        },
        "outputId": "0067a546-ad13-4548-f04d-3173155c3538"
      },
      "outputs": [
        {
          "output_type": "execute_result",
          "data": {
            "text/plain": [
              "str"
            ]
          },
          "metadata": {},
          "execution_count": 2
        }
      ],
      "source": [
        "# Write a snippet of code that displays the data type (class) of `s`\n",
        "s = \"Fox\"\n",
        "type(s)"
      ]
    },
    {
      "cell_type": "code",
      "source": [
        "# Write a snippet of code that adds `x` and `y` and displays their sum.\n",
        "x = 17\n",
        "y = \"3\"\n",
        "y = int(y)\n",
        "type(y)\n",
        "y + x"
      ],
      "metadata": {
        "id": "OoLP555BbMWi",
        "colab": {
          "base_uri": "https://localhost:8080/"
        },
        "outputId": "49fffe15-cb76-404e-e8d1-c30d2b93c8db"
      },
      "execution_count": 5,
      "outputs": [
        {
          "output_type": "execute_result",
          "data": {
            "text/plain": [
              "20"
            ]
          },
          "metadata": {},
          "execution_count": 5
        }
      ]
    },
    {
      "cell_type": "code",
      "source": [
        "# How might you transform z into a boolean value, if you had to? Be creative.\n",
        "z = \"false\"\n",
        "z = bool(z)\n",
        "type(z)"
      ],
      "metadata": {
        "id": "--XDmwVsbMC0",
        "colab": {
          "base_uri": "https://localhost:8080/"
        },
        "outputId": "8b21fde7-502e-4f05-9c56-58d8f641193a"
      },
      "execution_count": 7,
      "outputs": [
        {
          "output_type": "execute_result",
          "data": {
            "text/plain": [
              "bool"
            ]
          },
          "metadata": {},
          "execution_count": 7
        }
      ]
    },
    {
      "cell_type": "markdown",
      "source": [
        "- - -"
      ],
      "metadata": {
        "id": "zPvfX62VbK40"
      }
    },
    {
      "cell_type": "markdown",
      "source": [
        "## 2. Lists\n",
        "\n",
        "    mylist = [\"Chicago\",\"New Orleans\", \"Tempe\", \"Denver\", \"Nashville\", \"Albany\"]\n",
        "\n",
        "Using the list above, answer these questions:"
      ],
      "metadata": {
        "id": "j0mCENI3XK2i"
      }
    },
    {
      "cell_type": "code",
      "source": [
        "# Write a snippet of code that prints out \"Tempe\"\n",
        "mylist = [\"Chicago\",\"New Orleans\", \"Tempe\", \"Denver\", \"Nashville\", \"Albany\"]"
      ],
      "metadata": {
        "id": "2szfLXZcYC_7"
      },
      "execution_count": 9,
      "outputs": []
    },
    {
      "cell_type": "code",
      "source": [
        "mylist[2]"
      ],
      "metadata": {
        "colab": {
          "base_uri": "https://localhost:8080/",
          "height": 36
        },
        "id": "cuEkVHZYS2dF",
        "outputId": "5b9fabef-a8d4-4ed7-ccb2-77cd84f961ea"
      },
      "execution_count": 10,
      "outputs": [
        {
          "output_type": "execute_result",
          "data": {
            "text/plain": [
              "'Tempe'"
            ],
            "application/vnd.google.colaboratory.intrinsic+json": {
              "type": "string"
            }
          },
          "metadata": {},
          "execution_count": 10
        }
      ]
    },
    {
      "cell_type": "code",
      "source": [
        "# Write a snippet of code that adds \"Atlanta\" to this list and displays the extended list.\n",
        "print(mylist)\n",
        "mylist.remove(\"Atlanta\")"
      ],
      "metadata": {
        "id": "P6IeQYoTdMhh",
        "colab": {
          "base_uri": "https://localhost:8080/"
        },
        "outputId": "3d8ba091-404c-4c1a-f1ee-783274121488"
      },
      "execution_count": 26,
      "outputs": [
        {
          "output_type": "stream",
          "name": "stdout",
          "text": [
            "['Chicago', 'New Orleans', 'Tempe', 'Denver', 'Nashville', 'Albany', 'Atlanta']\n"
          ]
        }
      ]
    },
    {
      "cell_type": "markdown",
      "source": [
        "I added it too many times so I had to remove some of them"
      ],
      "metadata": {
        "id": "7-wjnYeLTs1N"
      }
    },
    {
      "cell_type": "code",
      "source": [
        "# Write a snippet of code that prints out only \"New Orleans\", \"Tempe\", \"Denver\".\n",
        "mylist[1:4]"
      ],
      "metadata": {
        "id": "t43LdDkhdM2N",
        "colab": {
          "base_uri": "https://localhost:8080/"
        },
        "outputId": "7d718ce9-35e8-419c-b1b8-aa43a2fca0fd"
      },
      "execution_count": 16,
      "outputs": [
        {
          "output_type": "execute_result",
          "data": {
            "text/plain": [
              "['New Orleans', 'Tempe', 'Denver']"
            ]
          },
          "metadata": {},
          "execution_count": 16
        }
      ]
    },
    {
      "cell_type": "markdown",
      "source": [
        "- - -"
      ],
      "metadata": {
        "id": "ATrOT4dYbIVH"
      }
    },
    {
      "cell_type": "markdown",
      "source": [
        "# 3. Dictionaries\n",
        "\n",
        "    mydict = {\"VA\":\"Richmond\", \"NC\":\"Raleigh\", \"NJ\":\"Trenton\", \"PA\":\"Harrisburg\", \"NY\":\"Albany\"}\n",
        "\n",
        "Answer the following questions:"
      ],
      "metadata": {
        "id": "GeXcT_9sYEdx"
      }
    },
    {
      "cell_type": "code",
      "source": [
        "# Write a snippet of code that returns \"Trenton\".\n",
        "mydict = {\"VA\":\"Richmond\", \"NC\":\"Raleigh\", \"NJ\":\"Trenton\", \"PA\":\"Harrisburg\", \"NY\":\"Albany\"}\n",
        "mydict[\"NJ\"]"
      ],
      "metadata": {
        "id": "v3fvvKP4ZUvJ",
        "colab": {
          "base_uri": "https://localhost:8080/",
          "height": 36
        },
        "outputId": "464f13e8-e611-4d41-c8fc-452cdb4f1d44"
      },
      "execution_count": 28,
      "outputs": [
        {
          "output_type": "execute_result",
          "data": {
            "text/plain": [
              "'Trenton'"
            ],
            "application/vnd.google.colaboratory.intrinsic+json": {
              "type": "string"
            }
          },
          "metadata": {},
          "execution_count": 28
        }
      ]
    },
    {
      "cell_type": "code",
      "source": [
        "# Write a snippet of code that adds \"CO\":\"Denver\" to `mydict`.\n",
        "# Remember the built-in .update({'key': 'value'}) method.\n",
        "mydict.update({\"CO\":\"Denver\"})\n",
        "print(mydict)"
      ],
      "metadata": {
        "id": "OEwUkIDNa90b",
        "colab": {
          "base_uri": "https://localhost:8080/"
        },
        "outputId": "b17863ad-05de-455a-c5f4-fc141e93f479"
      },
      "execution_count": 30,
      "outputs": [
        {
          "output_type": "stream",
          "name": "stdout",
          "text": [
            "{'VA': 'Richmond', 'NC': 'Raleigh', 'NJ': 'Trenton', 'PA': 'Harrisburg', 'NY': 'Albany', 'CO': 'Denver'}\n"
          ]
        }
      ]
    },
    {
      "cell_type": "code",
      "source": [
        "# Write a snippet of code that returns all the keys in `mydict`\n",
        "mydict.keys()"
      ],
      "metadata": {
        "id": "VwoLtOILbF2K",
        "colab": {
          "base_uri": "https://localhost:8080/"
        },
        "outputId": "7729740e-18c5-45f1-816d-65a1c8671e59"
      },
      "execution_count": 32,
      "outputs": [
        {
          "output_type": "execute_result",
          "data": {
            "text/plain": [
              "dict_keys(['VA', 'NC', 'NJ', 'PA', 'NY', 'CO'])"
            ]
          },
          "metadata": {},
          "execution_count": 32
        }
      ]
    },
    {
      "cell_type": "markdown",
      "source": [
        "- - -"
      ],
      "metadata": {
        "id": "svpBBTSYa5Dh"
      }
    },
    {
      "cell_type": "markdown",
      "source": [
        "# 4. NumPy Arrays\n",
        "\n",
        "Create an `ndarray` that contains the following values and assign the array to a variable.\n",
        "\n",
        "    2, 3, 5, 7, 11, 13, 17, 19, 23, 29, 31, 37\n",
        "\n",
        "Using that variable, answer the following questions:"
      ],
      "metadata": {
        "id": "DkVtHJBoYW34"
      }
    },
    {
      "cell_type": "code",
      "source": [
        "# Write a snippet of code that prints the data type of the elements in the array.\n",
        "import numpy as np\n",
        "x = np.array([2, 3, 5, 7, 11, 13, 17, 19, 23, 29, 31, 37])\n",
        "x.dtype"
      ],
      "metadata": {
        "id": "db5UdbrVZSiJ",
        "colab": {
          "base_uri": "https://localhost:8080/"
        },
        "outputId": "661ce454-cea7-4726-afd9-188e650053e7"
      },
      "execution_count": 37,
      "outputs": [
        {
          "output_type": "execute_result",
          "data": {
            "text/plain": [
              "dtype('int64')"
            ]
          },
          "metadata": {},
          "execution_count": 37
        }
      ]
    },
    {
      "cell_type": "code",
      "source": [
        "# Write a snippet of code that displays `11` from the array.\n",
        "x[4]"
      ],
      "metadata": {
        "id": "8je9wRG9aoWb",
        "colab": {
          "base_uri": "https://localhost:8080/"
        },
        "outputId": "17056ede-1582-4828-e084-a8631e035a5e"
      },
      "execution_count": 39,
      "outputs": [
        {
          "output_type": "execute_result",
          "data": {
            "text/plain": [
              "11"
            ]
          },
          "metadata": {},
          "execution_count": 39
        }
      ]
    },
    {
      "cell_type": "code",
      "source": [
        "# Write a snippet of code that multiplies each array element by `7` and displays the new values.\n",
        "x * 7"
      ],
      "metadata": {
        "id": "GBT5RzQfaovb",
        "colab": {
          "base_uri": "https://localhost:8080/"
        },
        "outputId": "43f657a2-fddd-42c5-d254-9071ed4cabb0"
      },
      "execution_count": 40,
      "outputs": [
        {
          "output_type": "execute_result",
          "data": {
            "text/plain": [
              "array([ 14,  21,  35,  49,  77,  91, 119, 133, 161, 203, 217, 259])"
            ]
          },
          "metadata": {},
          "execution_count": 40
        }
      ]
    }
  ]
}